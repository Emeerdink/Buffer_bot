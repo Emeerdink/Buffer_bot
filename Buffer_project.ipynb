{
 "cells": [
  {
   "cell_type": "code",
   "execution_count": 17,
   "id": "df3763b1",
   "metadata": {},
   "outputs": [],
   "source": [
    "import numpy as np\n",
    "import pandas as pd"
   ]
  },
  {
   "cell_type": "code",
   "execution_count": 208,
   "id": "aebc223c",
   "metadata": {},
   "outputs": [],
   "source": [
    "def making_stock(MW,Final_concentration,amount):\n",
    "    gram_in = Final_concentration * MW * amount\n",
    "    return(gram_in)\n",
    "\n",
    "  \n",
    "def make_input_df(df='no'):\n",
    "    if df != 'no':\n",
    "        stock,df_buffer = full_buffer(df)\n",
    "        print('To make the stock buffers:')\n",
    "        [print(i) for i in stock]\n",
    "        print('\\n To mix the buffer:')\n",
    "        [print(df_buffer.loc[i,'name'] + ': add ' + str(df_buffer.loc[i,'volume']) + 'ml') for i in range(len(df_buffer))]\n",
    "    \n",
    "    else:\n",
    "        df = pd.DataFrame(columns=['name','[stock]','[Final]','Total_volume'])\n",
    "        count = 0\n",
    "        Final_volume = float(input('What is the final volume? '))\n",
    "        while count != 'stop':\n",
    "            Name = input('What is the name of the chemical? \\n (not important) ')\n",
    "            if input('Do you have a stock? (y/n) ') == 'y':\n",
    "                Stock_available = 'yes'\n",
    "                MlW = 0 \n",
    "                Stock_concentration = float(input('What is the concentration of the stock solution? '))\n",
    "                Stock_volume = 0\n",
    "\n",
    "            else:\n",
    "                Stock_available = 'no'\n",
    "                MlW = float(input('What is the molecular weight of the chemical? '))\n",
    "                Stock_concentration = float(input('What should the concentration of the stock solution be? '))\n",
    "                Stock_volume = float(input('What should the volume of the stock solution be? '))\n",
    "            Final_concentration = float(input('What is the final concentration of the chemical in the buffer? '))\n",
    "            df.loc[count] = [Name,[Stock_available,MlW,Stock_concentration,Stock_volume],Final_concentration,Final_volume]\n",
    "            \n",
    "            if input('do you want to add something more? (y/n) ') != 'n':\n",
    "                count += 1\n",
    "            else:\n",
    "                count = 'stop'\n",
    "        stock,df_buffer = full_buffer(df)\n",
    "        print('\\n \\n \\n To make the stock buffers:')\n",
    "        [print(i) for i in stock]\n",
    "        print('\\n To mix the buffer:')\n",
    "        [print(df_buffer.loc[i,'name'] + ': add ' + str(df_buffer.loc[i,'volume']) + 'ml') for i in range(len(df_buffer))]\n",
    "    \n",
    "    return(stock,df_buffer)\n",
    "\n",
    "def full_buffer(df):\n",
    "    stock = []\n",
    "    df_buffer = pd.DataFrame(columns=['name','volume','Final_volume'])\n",
    "    for row in range(len(df)):\n",
    "        Stock_concentration = df.loc[row,'[stock]'][2]\n",
    "        chem = df.loc[row,'name']\n",
    "        if df.loc[row,'[stock]'][0] == 'no':\n",
    "            MlW = df.loc[row,'[stock]'][1]\n",
    "            Stock_volume = df.loc[row,'[stock]'][3]\n",
    "            in_gram = making_stock(MlW,Stock_concentration,Stock_volume)\n",
    "            stock.append('Use ' + str(in_gram) + 'g ' + chem + ' and fill up with ' + str(Stock_volume) + 'L DEPC H2O')\n",
    "        \n",
    "        Final_volume = df.loc[row,'Total_volume']\n",
    "        Final_concentration = df.loc[row,'[Final]']\n",
    "        volume = Final_volume/(Stock_concentration/Final_concentration)\n",
    "        df_buffer.loc[row] = [chem,volume,Final_volume]\n",
    "    \n",
    "    depc = df.loc[0,'Total_volume'] - df_buffer.volume.sum()\n",
    "    df_buffer.loc[len(df)] = ['DEPC',depc,Final_volume]\n",
    "    return(stock,df_buffer)\n",
    "    "
   ]
  },
  {
   "cell_type": "code",
   "execution_count": 207,
   "id": "f43ae60e",
   "metadata": {},
   "outputs": [
    {
     "name": "stdout",
     "output_type": "stream",
     "text": [
      "What is the final volume? 0.1\n",
      "What is the name of the chemical? \n",
      " (not important)tris\n",
      "Do you have a stock? (y/n) y\n",
      "What is the concentration of the stock solution? 1\n",
      "What is the final concentration of the chemical in the buffer? 0.1\n",
      "do you want to add something more? (y/n) y\n",
      "What is the name of the chemical? \n",
      " (not important)kcl\n",
      "Do you have a stock? (y/n) n\n",
      "What is the molecular weight of the chemical? 74.55\n",
      "What should the concentration of the stock solution be? 5\n",
      "What should the volume of the stock solution be? 0.1\n",
      "What is the final concentration of the chemical in the buffer? 0.75\n",
      "do you want to add something more? (y/n) y\n",
      "What is the name of the chemical? \n",
      " (not important)mgcl2\n",
      "Do you have a stock? (y/n) y\n",
      "What is the concentration of the stock solution? 2\n",
      "What is the final concentration of the chemical in the buffer? 0.025\n",
      "do you want to add something more? (y/n) n\n",
      "    name                [stock]  [Final]  Total_volume\n",
      "0   tris       [yes, 0, 1.0, 0]    0.100           0.1\n",
      "1    kcl  [no, 74.55, 5.0, 0.1]    0.750           0.1\n",
      "2  mgcl2       [yes, 0, 2.0, 0]    0.025           0.1\n",
      "To make the stock buffers:\n",
      "mix 37.275g kcl with 0.1L DEPC H2O\n",
      "\n",
      " To mix the buffer:\n",
      "tris: add 0.01ml\n",
      "kcl: add 0.015ml\n",
      "mgcl2: add 0.00125ml\n",
      "DEPC: add 0.07375000000000001ml\n"
     ]
    },
    {
     "data": {
      "text/plain": [
       "(['mix 37.275g kcl with 0.1L DEPC H2O'],\n",
       "     name   volume  Final_volume\n",
       " 0   tris  0.01000           0.1\n",
       " 1    kcl  0.01500           0.1\n",
       " 2  mgcl2  0.00125           0.1\n",
       " 3   DEPC  0.07375           0.1)"
      ]
     },
     "execution_count": 207,
     "metadata": {},
     "output_type": "execute_result"
    }
   ],
   "source": [
    "make_input_df()"
   ]
  },
  {
   "cell_type": "code",
   "execution_count": 158,
   "id": "d3a1e34d",
   "metadata": {},
   "outputs": [],
   "source": [
    "\n",
    "df = pd.DataFrame(data=[['Tris-HCl',['yes',0,1,0],0.1,0.1],\n",
    "                        ['KCl',['no',74.55,5,0.1],0.75,0.1],\n",
    "                        ['MgCl2',['yes',0,2,0],0.025,0.1]],columns=['name','[stock]','[Final]','Total_volume'])\n",
    "\n"
   ]
  },
  {
   "cell_type": "code",
   "execution_count": 211,
   "id": "0eb38e7d",
   "metadata": {
    "scrolled": true
   },
   "outputs": [
    {
     "data": {
      "text/plain": [
       "0.074"
      ]
     },
     "execution_count": 211,
     "metadata": {},
     "output_type": "execute_result"
    }
   ],
   "source": [
    "round(0.07375000000000001,3)"
   ]
  },
  {
   "cell_type": "code",
   "execution_count": null,
   "id": "e1329333",
   "metadata": {},
   "outputs": [],
   "source": []
  }
 ],
 "metadata": {
  "kernelspec": {
   "display_name": "Python 3",
   "language": "python",
   "name": "python3"
  },
  "language_info": {
   "codemirror_mode": {
    "name": "ipython",
    "version": 3
   },
   "file_extension": ".py",
   "mimetype": "text/x-python",
   "name": "python",
   "nbconvert_exporter": "python",
   "pygments_lexer": "ipython3",
   "version": "3.6.10"
  }
 },
 "nbformat": 4,
 "nbformat_minor": 5
}
